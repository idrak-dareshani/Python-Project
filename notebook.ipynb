{
 "cells": [
  {
   "cell_type": "code",
   "execution_count": null,
   "metadata": {},
   "outputs": [],
   "source": [
    "import conkey\n",
    "import pandas as pd\n",
    "from sqlalchemy import create_engine\n",
    "\n",
    "# Create engine - getting connection string from conkey\n",
    "engine = create_engine(conkey.conn_str)\n",
    "\n",
    "# Load forecast data from SQL Server\n",
    "query = \"SELECT * FROM DemandForecast\"\n",
    "df_forecast = pd.read_sql(query, engine)\n",
    "\n",
    "# Save to CSV\n",
    "csv_file = \"demand_forecast.csv\"\n",
    "df_forecast.to_csv(csv_file, index=False)\n",
    "\n",
    "print(f\"Forecast data saved to {csv_file}\")"
   ]
  },
  {
   "cell_type": "code",
   "execution_count": null,
   "metadata": {},
   "outputs": [],
   "source": [
    "import conkey\n",
    "import pandas as pd\n",
    "from sqlalchemy import create_engine\n",
    "\n",
    "# Create engine - getting connection string from conkey\n",
    "engine = create_engine(conkey.conn_str)\n",
    "\n",
    "forecast_df = pd.read_csv('demand_forecast.csv')\n",
    "\n",
    "# Save forecast results to SQL Server\n",
    "table_name = 'DemandForecast'\n",
    "forecast_df.to_sql(table_name, engine, if_exists='replace', index=False)\n",
    "\n",
    "print(f\"Forecast data successfully saved to table {table_name}.\")"
   ]
  }
 ],
 "metadata": {
  "kernelspec": {
   "display_name": "Python 3",
   "language": "python",
   "name": "python3"
  },
  "language_info": {
   "codemirror_mode": {
    "name": "ipython",
    "version": 3
   },
   "file_extension": ".py",
   "mimetype": "text/x-python",
   "name": "python",
   "nbconvert_exporter": "python",
   "pygments_lexer": "ipython3",
   "version": "3.12.1"
  }
 },
 "nbformat": 4,
 "nbformat_minor": 2
}
