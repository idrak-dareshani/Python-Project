{
 "cells": [
  {
   "cell_type": "code",
   "execution_count": 1,
   "metadata": {},
   "outputs": [],
   "source": [
    "import pandas as pd\n",
    "\n",
    "testdata = pd.read_csv('TestData.csv')"
   ]
  },
  {
   "cell_type": "code",
   "execution_count": 3,
   "metadata": {},
   "outputs": [
    {
     "name": "stdout",
     "output_type": "stream",
     "text": [
      "    Program   TestArea Result             StartTime               EndTime\n",
      "0      Meta  Diagnosis   PASS  12/5/2023 1:29:20 PM  12/5/2023 1:29:20 PM\n",
      "1      Meta  Diagnosis   PASS  12/5/2023 1:29:21 PM  12/5/2023 1:29:21 PM\n",
      "2      Meta  Diagnosis   PASS  12/5/2023 1:29:22 PM  12/5/2023 1:29:22 PM\n",
      "3      Meta     H_FOVI   PASS  12/5/2023 1:29:22 PM  12/5/2023 1:29:22 PM\n",
      "4  Spectrum   Spectrum   FAIL  12/5/2023 1:40:19 PM  12/5/2023 2:00:48 PM\n"
     ]
    }
   ],
   "source": [
    "print(testdata.head())"
   ]
  },
  {
   "cell_type": "code",
   "execution_count": null,
   "metadata": {},
   "outputs": [
    {
     "name": "stdout",
     "output_type": "stream",
     "text": [
      "    Program   TestArea Result           StartTime             EndTime\n",
      "0      Meta  Diagnosis   PASS 2023-12-05 13:29:20 2023-12-05 13:29:20\n",
      "1      Meta  Diagnosis   PASS 2023-12-05 13:29:21 2023-12-05 13:29:21\n",
      "2      Meta  Diagnosis   PASS 2023-12-05 13:29:22 2023-12-05 13:29:22\n",
      "3      Meta     H_FOVI   PASS 2023-12-05 13:29:22 2023-12-05 13:29:22\n",
      "4  Spectrum   Spectrum   FAIL 2023-12-05 13:40:19 2023-12-05 14:00:48\n"
     ]
    }
   ],
   "source": [
    "# Data Preprocessing\n",
    "testdata['Program'] = testdata['Program'].astype('category')\n",
    "testdata['TestArea'] = testdata['TestArea'].astype('category')\n",
    "testdata['Result'] = testdata['Result'].astype('category')\n",
    "\n",
    "testdata['StartTime'] = pd.to_datetime(testdata['StartTime'], format='%m/%d/%Y %I:%M:%S %p')\n",
    "testdata['EndTime'] = pd.to_datetime(testdata['EndTime'], format='%m/%d/%Y %I:%M:%S %p')\n",
    "\n",
    "print(testdata.info())"
   ]
  }
 ],
 "metadata": {
  "kernelspec": {
   "display_name": "Python 3",
   "language": "python",
   "name": "python3"
  },
  "language_info": {
   "codemirror_mode": {
    "name": "ipython",
    "version": 3
   },
   "file_extension": ".py",
   "mimetype": "text/x-python",
   "name": "python",
   "nbconvert_exporter": "python",
   "pygments_lexer": "ipython3",
   "version": "3.13.2"
  }
 },
 "nbformat": 4,
 "nbformat_minor": 2
}
